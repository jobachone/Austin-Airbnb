{
 "cells": [
  {
   "cell_type": "markdown",
   "id": "a3dc7039",
   "metadata": {},
   "source": [
    "# 6.6 - Sourcing and Analyzing Time Series Data\n",
    "\n",
    "## Script Contents:\n",
    "\n",
    "#### 1. Importing libraries and data\n",
    "\n",
    "#### 2. Subsetting, wrangling, and cleaning time-series data\n",
    "\n",
    "#### 3. Time series analysis: decomposition\n",
    "\n",
    "#### 4. Testing for stationarity\n",
    "\n",
    "#### 5. Stationarizing the Austin Airbnb Data"
   ]
  },
  {
   "cell_type": "markdown",
   "id": "6a04f655",
   "metadata": {},
   "source": [
    "### 1. Importing libraries and data"
   ]
  },
  {
   "cell_type": "code",
   "execution_count": 1,
   "id": "c3f5bbcc",
   "metadata": {},
   "outputs": [],
   "source": [
    "import pandas as pd\n",
    "import numpy as np\n",
    "import seaborn as sns\n",
    "import matplotlib\n",
    "import matplotlib.pyplot as plt\n",
    "import statsmodels.api as sm # Using .api imports the public access version of statsmodels, which is a library that handles \n",
    "# statistical models.\n",
    "import os\n",
    "import warnings # This is a library that handles warnings.\n",
    "\n",
    "warnings.filterwarnings(\"ignore\") # Disable deprecation warnings that could indicate, for instance, a suspended library or \n",
    "# feature. These are more relevant to developers and very seldom to analysts.\n",
    "\n",
    "plt.style.use('fivethirtyeight')"
   ]
  },
  {
   "cell_type": "code",
   "execution_count": 2,
   "id": "17e4631b",
   "metadata": {},
   "outputs": [],
   "source": [
    "%matplotlib inline"
   ]
  },
  {
   "cell_type": "code",
   "execution_count": 3,
   "id": "8aa8c6c7",
   "metadata": {},
   "outputs": [
    {
     "data": {
      "text/plain": [
       "'/Users/jeremyobach/Documents/Data Analytics/CareerFoundry/Achievement 6 - Self Designed Project/Austin Airbnb Project - MASTER FOLDER'"
      ]
     },
     "execution_count": 3,
     "metadata": {},
     "output_type": "execute_result"
    }
   ],
   "source": [
    "#Setting path to Achievement 6 master folder\n",
    "path = r'/Users/jeremyobach/Documents/Data Analytics/CareerFoundry/Achievement 6 - Self Designed Project/Austin Airbnb Project - MASTER FOLDER'\n",
    "#checking path set correctly\n",
    "path"
   ]
  },
  {
   "cell_type": "code",
   "execution_count": 4,
   "id": "4b74c913",
   "metadata": {},
   "outputs": [],
   "source": [
    "# delimiting columns displayed\n",
    "pd.options.display.max_columns = None"
   ]
  },
  {
   "cell_type": "code",
   "execution_count": 5,
   "id": "2b919144",
   "metadata": {},
   "outputs": [],
   "source": [
    "# Importing data from Inside Airbnb 2023 Scrape - Summary info and metrics for listings\n",
    "\n",
    "listings = pd.read_csv(os.path.join(path,'02 Data', 'Inside Airbnb', 'Dec 23 data', 'Austin.dec23.summary.listings.csv'), index_col = False)"
   ]
  },
  {
   "cell_type": "code",
   "execution_count": 6,
   "id": "8cf775ad",
   "metadata": {},
   "outputs": [
    {
     "data": {
      "text/html": [
       "<div>\n",
       "<style scoped>\n",
       "    .dataframe tbody tr th:only-of-type {\n",
       "        vertical-align: middle;\n",
       "    }\n",
       "\n",
       "    .dataframe tbody tr th {\n",
       "        vertical-align: top;\n",
       "    }\n",
       "\n",
       "    .dataframe thead th {\n",
       "        text-align: right;\n",
       "    }\n",
       "</style>\n",
       "<table border=\"1\" class=\"dataframe\">\n",
       "  <thead>\n",
       "    <tr style=\"text-align: right;\">\n",
       "      <th></th>\n",
       "      <th>id</th>\n",
       "      <th>name</th>\n",
       "      <th>host_id</th>\n",
       "      <th>host_name</th>\n",
       "      <th>neighbourhood_group</th>\n",
       "      <th>neighbourhood</th>\n",
       "      <th>latitude</th>\n",
       "      <th>longitude</th>\n",
       "      <th>room_type</th>\n",
       "      <th>price</th>\n",
       "      <th>minimum_nights</th>\n",
       "      <th>number_of_reviews</th>\n",
       "      <th>last_review</th>\n",
       "      <th>reviews_per_month</th>\n",
       "      <th>calculated_host_listings_count</th>\n",
       "      <th>availability_365</th>\n",
       "      <th>number_of_reviews_ltm</th>\n",
       "      <th>license</th>\n",
       "    </tr>\n",
       "  </thead>\n",
       "  <tbody>\n",
       "    <tr>\n",
       "      <th>0</th>\n",
       "      <td>5456</td>\n",
       "      <td>Guesthouse in Austin · ★4.84 · 1 bedroom · 2 b...</td>\n",
       "      <td>8028</td>\n",
       "      <td>Sylvia</td>\n",
       "      <td>NaN</td>\n",
       "      <td>78702</td>\n",
       "      <td>30.26057</td>\n",
       "      <td>-97.73441</td>\n",
       "      <td>Entire home/apt</td>\n",
       "      <td>101.0</td>\n",
       "      <td>2</td>\n",
       "      <td>668</td>\n",
       "      <td>2023-11-20</td>\n",
       "      <td>3.71</td>\n",
       "      <td>1</td>\n",
       "      <td>330</td>\n",
       "      <td>47</td>\n",
       "      <td>NaN</td>\n",
       "    </tr>\n",
       "    <tr>\n",
       "      <th>1</th>\n",
       "      <td>5769</td>\n",
       "      <td>Home in Austin · ★4.91 · 1 bedroom · 1 bed · 1...</td>\n",
       "      <td>8186</td>\n",
       "      <td>Elizabeth</td>\n",
       "      <td>NaN</td>\n",
       "      <td>78729</td>\n",
       "      <td>30.45697</td>\n",
       "      <td>-97.78422</td>\n",
       "      <td>Private room</td>\n",
       "      <td>NaN</td>\n",
       "      <td>1</td>\n",
       "      <td>294</td>\n",
       "      <td>2023-12-07</td>\n",
       "      <td>1.76</td>\n",
       "      <td>1</td>\n",
       "      <td>0</td>\n",
       "      <td>20</td>\n",
       "      <td>NaN</td>\n",
       "    </tr>\n",
       "    <tr>\n",
       "      <th>2</th>\n",
       "      <td>218402</td>\n",
       "      <td>Home in Austin · ★4.74 · 1 bedroom · 1 bed · 1...</td>\n",
       "      <td>1129520</td>\n",
       "      <td>Paulette</td>\n",
       "      <td>NaN</td>\n",
       "      <td>78754</td>\n",
       "      <td>30.36145</td>\n",
       "      <td>-97.64397</td>\n",
       "      <td>Private room</td>\n",
       "      <td>30.0</td>\n",
       "      <td>28</td>\n",
       "      <td>29</td>\n",
       "      <td>2023-09-24</td>\n",
       "      <td>0.20</td>\n",
       "      <td>1</td>\n",
       "      <td>252</td>\n",
       "      <td>2</td>\n",
       "      <td>NaN</td>\n",
       "    </tr>\n",
       "    <tr>\n",
       "      <th>3</th>\n",
       "      <td>6413</td>\n",
       "      <td>Guesthouse in Austin · ★4.97 · Studio · 1 bed ...</td>\n",
       "      <td>13879</td>\n",
       "      <td>Todd</td>\n",
       "      <td>NaN</td>\n",
       "      <td>78704</td>\n",
       "      <td>30.24885</td>\n",
       "      <td>-97.73587</td>\n",
       "      <td>Entire home/apt</td>\n",
       "      <td>NaN</td>\n",
       "      <td>30</td>\n",
       "      <td>120</td>\n",
       "      <td>2022-10-17</td>\n",
       "      <td>0.70</td>\n",
       "      <td>1</td>\n",
       "      <td>0</td>\n",
       "      <td>0</td>\n",
       "      <td>NaN</td>\n",
       "    </tr>\n",
       "    <tr>\n",
       "      <th>4</th>\n",
       "      <td>6448</td>\n",
       "      <td>Guesthouse in Austin · ★4.97 · 1 bedroom · 2 b...</td>\n",
       "      <td>14156</td>\n",
       "      <td>Amy</td>\n",
       "      <td>NaN</td>\n",
       "      <td>78704</td>\n",
       "      <td>30.26034</td>\n",
       "      <td>-97.76487</td>\n",
       "      <td>Entire home/apt</td>\n",
       "      <td>159.0</td>\n",
       "      <td>3</td>\n",
       "      <td>312</td>\n",
       "      <td>2023-12-04</td>\n",
       "      <td>2.09</td>\n",
       "      <td>1</td>\n",
       "      <td>160</td>\n",
       "      <td>21</td>\n",
       "      <td>NaN</td>\n",
       "    </tr>\n",
       "  </tbody>\n",
       "</table>\n",
       "</div>"
      ],
      "text/plain": [
       "       id                                               name  host_id  \\\n",
       "0    5456  Guesthouse in Austin · ★4.84 · 1 bedroom · 2 b...     8028   \n",
       "1    5769  Home in Austin · ★4.91 · 1 bedroom · 1 bed · 1...     8186   \n",
       "2  218402  Home in Austin · ★4.74 · 1 bedroom · 1 bed · 1...  1129520   \n",
       "3    6413  Guesthouse in Austin · ★4.97 · Studio · 1 bed ...    13879   \n",
       "4    6448  Guesthouse in Austin · ★4.97 · 1 bedroom · 2 b...    14156   \n",
       "\n",
       "   host_name  neighbourhood_group  neighbourhood  latitude  longitude  \\\n",
       "0     Sylvia                  NaN          78702  30.26057  -97.73441   \n",
       "1  Elizabeth                  NaN          78729  30.45697  -97.78422   \n",
       "2   Paulette                  NaN          78754  30.36145  -97.64397   \n",
       "3       Todd                  NaN          78704  30.24885  -97.73587   \n",
       "4        Amy                  NaN          78704  30.26034  -97.76487   \n",
       "\n",
       "         room_type  price  minimum_nights  number_of_reviews last_review  \\\n",
       "0  Entire home/apt  101.0               2                668  2023-11-20   \n",
       "1     Private room    NaN               1                294  2023-12-07   \n",
       "2     Private room   30.0              28                 29  2023-09-24   \n",
       "3  Entire home/apt    NaN              30                120  2022-10-17   \n",
       "4  Entire home/apt  159.0               3                312  2023-12-04   \n",
       "\n",
       "   reviews_per_month  calculated_host_listings_count  availability_365  \\\n",
       "0               3.71                               1               330   \n",
       "1               1.76                               1                 0   \n",
       "2               0.20                               1               252   \n",
       "3               0.70                               1                 0   \n",
       "4               2.09                               1               160   \n",
       "\n",
       "   number_of_reviews_ltm  license  \n",
       "0                     47      NaN  \n",
       "1                     20      NaN  \n",
       "2                      2      NaN  \n",
       "3                      0      NaN  \n",
       "4                     21      NaN  "
      ]
     },
     "execution_count": 6,
     "metadata": {},
     "output_type": "execute_result"
    }
   ],
   "source": [
    "listings.head()"
   ]
  },
  {
   "cell_type": "code",
   "execution_count": 7,
   "id": "7fa3ff35",
   "metadata": {},
   "outputs": [],
   "source": [
    "reviews = pd.read_csv(os.path.join(path,'02 Data', 'Inside Airbnb', 'Dec 23 data', 'Austin.dec23.summary.reviews.csv'), index_col = False)"
   ]
  },
  {
   "cell_type": "code",
   "execution_count": 8,
   "id": "a5c40a70",
   "metadata": {},
   "outputs": [
    {
     "data": {
      "text/plain": [
       "(586441, 2)"
      ]
     },
     "execution_count": 8,
     "metadata": {},
     "output_type": "execute_result"
    }
   ],
   "source": [
    "reviews.shape"
   ]
  },
  {
   "cell_type": "code",
   "execution_count": 9,
   "id": "ca9954c1",
   "metadata": {},
   "outputs": [
    {
     "data": {
      "text/html": [
       "<div>\n",
       "<style scoped>\n",
       "    .dataframe tbody tr th:only-of-type {\n",
       "        vertical-align: middle;\n",
       "    }\n",
       "\n",
       "    .dataframe tbody tr th {\n",
       "        vertical-align: top;\n",
       "    }\n",
       "\n",
       "    .dataframe thead th {\n",
       "        text-align: right;\n",
       "    }\n",
       "</style>\n",
       "<table border=\"1\" class=\"dataframe\">\n",
       "  <thead>\n",
       "    <tr style=\"text-align: right;\">\n",
       "      <th></th>\n",
       "      <th>listing_id</th>\n",
       "      <th>date</th>\n",
       "    </tr>\n",
       "  </thead>\n",
       "  <tbody>\n",
       "    <tr>\n",
       "      <th>0</th>\n",
       "      <td>5456</td>\n",
       "      <td>2009-03-08</td>\n",
       "    </tr>\n",
       "    <tr>\n",
       "      <th>1</th>\n",
       "      <td>5456</td>\n",
       "      <td>2009-03-19</td>\n",
       "    </tr>\n",
       "    <tr>\n",
       "      <th>2</th>\n",
       "      <td>5456</td>\n",
       "      <td>2009-03-22</td>\n",
       "    </tr>\n",
       "    <tr>\n",
       "      <th>3</th>\n",
       "      <td>5456</td>\n",
       "      <td>2009-04-08</td>\n",
       "    </tr>\n",
       "    <tr>\n",
       "      <th>4</th>\n",
       "      <td>5456</td>\n",
       "      <td>2009-04-13</td>\n",
       "    </tr>\n",
       "    <tr>\n",
       "      <th>5</th>\n",
       "      <td>5456</td>\n",
       "      <td>2009-04-16</td>\n",
       "    </tr>\n",
       "    <tr>\n",
       "      <th>6</th>\n",
       "      <td>5456</td>\n",
       "      <td>2009-04-20</td>\n",
       "    </tr>\n",
       "    <tr>\n",
       "      <th>7</th>\n",
       "      <td>5456</td>\n",
       "      <td>2009-04-26</td>\n",
       "    </tr>\n",
       "    <tr>\n",
       "      <th>8</th>\n",
       "      <td>5456</td>\n",
       "      <td>2009-05-11</td>\n",
       "    </tr>\n",
       "    <tr>\n",
       "      <th>9</th>\n",
       "      <td>5456</td>\n",
       "      <td>2009-05-19</td>\n",
       "    </tr>\n",
       "    <tr>\n",
       "      <th>10</th>\n",
       "      <td>5456</td>\n",
       "      <td>2009-05-23</td>\n",
       "    </tr>\n",
       "    <tr>\n",
       "      <th>11</th>\n",
       "      <td>5456</td>\n",
       "      <td>2009-06-01</td>\n",
       "    </tr>\n",
       "    <tr>\n",
       "      <th>12</th>\n",
       "      <td>5456</td>\n",
       "      <td>2009-06-14</td>\n",
       "    </tr>\n",
       "    <tr>\n",
       "      <th>13</th>\n",
       "      <td>5456</td>\n",
       "      <td>2009-06-17</td>\n",
       "    </tr>\n",
       "    <tr>\n",
       "      <th>14</th>\n",
       "      <td>5456</td>\n",
       "      <td>2009-06-27</td>\n",
       "    </tr>\n",
       "    <tr>\n",
       "      <th>15</th>\n",
       "      <td>5456</td>\n",
       "      <td>2009-07-12</td>\n",
       "    </tr>\n",
       "    <tr>\n",
       "      <th>16</th>\n",
       "      <td>5456</td>\n",
       "      <td>2009-07-19</td>\n",
       "    </tr>\n",
       "    <tr>\n",
       "      <th>17</th>\n",
       "      <td>5456</td>\n",
       "      <td>2009-07-27</td>\n",
       "    </tr>\n",
       "    <tr>\n",
       "      <th>18</th>\n",
       "      <td>5456</td>\n",
       "      <td>2009-07-29</td>\n",
       "    </tr>\n",
       "    <tr>\n",
       "      <th>19</th>\n",
       "      <td>5456</td>\n",
       "      <td>2009-08-02</td>\n",
       "    </tr>\n",
       "    <tr>\n",
       "      <th>20</th>\n",
       "      <td>5456</td>\n",
       "      <td>2009-08-19</td>\n",
       "    </tr>\n",
       "    <tr>\n",
       "      <th>21</th>\n",
       "      <td>5456</td>\n",
       "      <td>2009-08-22</td>\n",
       "    </tr>\n",
       "    <tr>\n",
       "      <th>22</th>\n",
       "      <td>5456</td>\n",
       "      <td>2009-09-08</td>\n",
       "    </tr>\n",
       "    <tr>\n",
       "      <th>23</th>\n",
       "      <td>5456</td>\n",
       "      <td>2009-09-19</td>\n",
       "    </tr>\n",
       "    <tr>\n",
       "      <th>24</th>\n",
       "      <td>5456</td>\n",
       "      <td>2009-09-20</td>\n",
       "    </tr>\n",
       "  </tbody>\n",
       "</table>\n",
       "</div>"
      ],
      "text/plain": [
       "    listing_id        date\n",
       "0         5456  2009-03-08\n",
       "1         5456  2009-03-19\n",
       "2         5456  2009-03-22\n",
       "3         5456  2009-04-08\n",
       "4         5456  2009-04-13\n",
       "5         5456  2009-04-16\n",
       "6         5456  2009-04-20\n",
       "7         5456  2009-04-26\n",
       "8         5456  2009-05-11\n",
       "9         5456  2009-05-19\n",
       "10        5456  2009-05-23\n",
       "11        5456  2009-06-01\n",
       "12        5456  2009-06-14\n",
       "13        5456  2009-06-17\n",
       "14        5456  2009-06-27\n",
       "15        5456  2009-07-12\n",
       "16        5456  2009-07-19\n",
       "17        5456  2009-07-27\n",
       "18        5456  2009-07-29\n",
       "19        5456  2009-08-02\n",
       "20        5456  2009-08-19\n",
       "21        5456  2009-08-22\n",
       "22        5456  2009-09-08\n",
       "23        5456  2009-09-19\n",
       "24        5456  2009-09-20"
      ]
     },
     "execution_count": 9,
     "metadata": {},
     "output_type": "execute_result"
    }
   ],
   "source": [
    "reviews.head(25)"
   ]
  },
  {
   "cell_type": "code",
   "execution_count": 10,
   "id": "d3e196a1",
   "metadata": {},
   "outputs": [
    {
     "data": {
      "text/plain": [
       "Index(['listing_id', 'date'], dtype='object')"
      ]
     },
     "execution_count": 10,
     "metadata": {},
     "output_type": "execute_result"
    }
   ],
   "source": [
    "reviews.columns"
   ]
  },
  {
   "cell_type": "code",
   "execution_count": 11,
   "id": "cbc4a848",
   "metadata": {},
   "outputs": [
    {
     "data": {
      "text/plain": [
       "pandas.core.frame.DataFrame"
      ]
     },
     "execution_count": 11,
     "metadata": {},
     "output_type": "execute_result"
    }
   ],
   "source": [
    "type(reviews)"
   ]
  },
  {
   "cell_type": "markdown",
   "id": "07d62a95",
   "metadata": {},
   "source": [
    "### 2. Subsetting, wrangling, and cleaning time-series data"
   ]
  },
  {
   "cell_type": "code",
   "execution_count": 13,
   "id": "11f07452",
   "metadata": {},
   "outputs": [
    {
     "data": {
      "text/html": [
       "<div>\n",
       "<style scoped>\n",
       "    .dataframe tbody tr th:only-of-type {\n",
       "        vertical-align: middle;\n",
       "    }\n",
       "\n",
       "    .dataframe tbody tr th {\n",
       "        vertical-align: top;\n",
       "    }\n",
       "\n",
       "    .dataframe thead th {\n",
       "        text-align: right;\n",
       "    }\n",
       "</style>\n",
       "<table border=\"1\" class=\"dataframe\">\n",
       "  <thead>\n",
       "    <tr style=\"text-align: right;\">\n",
       "      <th></th>\n",
       "      <th>listing_id</th>\n",
       "    </tr>\n",
       "    <tr>\n",
       "      <th>datetime</th>\n",
       "      <th></th>\n",
       "    </tr>\n",
       "  </thead>\n",
       "  <tbody>\n",
       "    <tr>\n",
       "      <th>2009-03-08</th>\n",
       "      <td>5456</td>\n",
       "    </tr>\n",
       "    <tr>\n",
       "      <th>2009-03-19</th>\n",
       "      <td>5456</td>\n",
       "    </tr>\n",
       "    <tr>\n",
       "      <th>2009-03-22</th>\n",
       "      <td>5456</td>\n",
       "    </tr>\n",
       "    <tr>\n",
       "      <th>2009-04-08</th>\n",
       "      <td>5456</td>\n",
       "    </tr>\n",
       "    <tr>\n",
       "      <th>2009-04-13</th>\n",
       "      <td>5456</td>\n",
       "    </tr>\n",
       "  </tbody>\n",
       "</table>\n",
       "</div>"
      ],
      "text/plain": [
       "            listing_id\n",
       "datetime              \n",
       "2009-03-08        5456\n",
       "2009-03-19        5456\n",
       "2009-03-22        5456\n",
       "2009-04-08        5456\n",
       "2009-04-13        5456"
      ]
     },
     "execution_count": 13,
     "metadata": {},
     "output_type": "execute_result"
    }
   ],
   "source": [
    "# Set the \"Date\" column as the index\n",
    "\n",
    "from datetime import datetime\n",
    "\n",
    "reviews['datetime'] = pd.to_datetime(reviews['date']) # Create a datetime column from \"date.\"\"\n",
    "reviews = reviews.set_index('datetime') # Set the datetime as the index of the dataframe.\n",
    "reviews.drop(['date'], axis=1, inplace=True) # Drop the \"Date\" column.\n",
    "reviews.head()"
   ]
  },
  {
   "cell_type": "markdown",
   "id": "eeb5ddc2",
   "metadata": {},
   "source": [
    "### Visualizing reviews per Quarter first, then Reviews per Month:"
   ]
  },
  {
   "cell_type": "code",
   "execution_count": 16,
   "id": "da55814f",
   "metadata": {},
   "outputs": [],
   "source": [
    "# Group by quarter and count the number of reviews\n",
    "quarterly_reviews = reviews.groupby(pd.Grouper(freq='Q')).size()"
   ]
  },
  {
   "cell_type": "code",
   "execution_count": 17,
   "id": "f30d918b",
   "metadata": {},
   "outputs": [],
   "source": [
    "# Create a new DataFrame with quarter and corresponding number of reviews\n",
    "quarterly_reviews_df = pd.DataFrame({'Quarter': quarterly_reviews.index, 'Reviews': quarterly_reviews.values})"
   ]
  },
  {
   "cell_type": "code",
   "execution_count": 18,
   "id": "eec5a026",
   "metadata": {},
   "outputs": [],
   "source": [
    "# Set 'Quarter' column as the index\n",
    "quarterly_reviews_df.set_index('Quarter', inplace=True)"
   ]
  },
  {
   "cell_type": "code",
   "execution_count": 19,
   "id": "18a572c4",
   "metadata": {},
   "outputs": [
    {
     "data": {
      "image/png": "[encoded data removed]",
      "text/plain": [
       "<Figure size 1000x600 with 1 Axes>"
      ]
     },
     "metadata": {},
     "output_type": "display_data"
    }
   ],
   "source": [
    "# Plot the data\n",
    "quarterly_reviews_df.plot(kind='line', figsize=(10, 6))\n",
    "plt.title('Number of Reviews per Quarter')\n",
    "plt.xlabel('Quarter')\n",
    "plt.ylabel('Number of Reviews')\n",
    "plt.xticks(rotation=45)\n",
    "plt.show()"
   ]
  },
  {
   "cell_type": "code",
   "execution_count": 20,
   "id": "30c0f373",
   "metadata": {},
   "outputs": [
    {
     "data": {
      "text/plain": [
       "Reviews    0\n",
       "dtype: int64"
      ]
     },
     "execution_count": 20,
     "metadata": {},
     "output_type": "execute_result"
    }
   ],
   "source": [
    "# Checking for missing values\n",
    "\n",
    "quarterly_reviews_df.isnull().sum()\n",
    "\n",
    "# no missing values"
   ]
  },
  {
   "cell_type": "code",
   "execution_count": 21,
   "id": "2555b660",
   "metadata": {},
   "outputs": [
    {
     "data": {
      "text/plain": [
       "1"
      ]
     },
     "execution_count": 21,
     "metadata": {},
     "output_type": "execute_result"
    }
   ],
   "source": [
    "# Checking for duplicates\n",
    "\n",
    "dups = quarterly_reviews_df.duplicated()\n",
    "dups.sum()\n",
    "\n",
    "# No duplicates"
   ]
  },
  {
   "cell_type": "markdown",
   "id": "83b4d46f",
   "metadata": {},
   "source": [
    "### Getting Reviews Per Month:"
   ]
  },
  {
   "cell_type": "code",
   "execution_count": 23,
   "id": "dbb94ad3",
   "metadata": {},
   "outputs": [],
   "source": [
    "# Group by month and count the number of reviews\n",
    "\n",
    "monthly_reviews = reviews.groupby(pd.Grouper(freq='M')).size()"
   ]
  },
  {
   "cell_type": "code",
   "execution_count": 24,
   "id": "0f2864a3",
   "metadata": {},
   "outputs": [],
   "source": [
    "# Create a new DataFrame with month and corresponding number of reviews\n",
    "\n",
    "monthly_reviews_df = pd.DataFrame({'Month': monthly_reviews.index, 'Reviews': monthly_reviews.values})"
   ]
  },
  {
   "cell_type": "code",
   "execution_count": 25,
   "id": "6ecf6a1f",
   "metadata": {},
   "outputs": [],
   "source": [
    "# Saving a version of monthly_reviews where Month Column not index\n",
    "monthly_reviews = pd.DataFrame({'Month': monthly_reviews.index, 'Reviews': monthly_reviews.values})"
   ]
  },
  {
   "cell_type": "code",
   "execution_count": 26,
   "id": "f968075f",
   "metadata": {},
   "outputs": [],
   "source": [
    "# Set 'Month' column as the index\n",
    "monthly_reviews_df.set_index('Month', inplace=True)"
   ]
  },
  {
   "cell_type": "code",
   "execution_count": 27,
   "id": "e93e8f71",
   "metadata": {},
   "outputs": [
    {
     "data": {
      "image/png": "[encoded data removed]",
      "text/plain": [
       "<Figure size 1300x700 with 1 Axes>"
      ]
     },
     "metadata": {},
     "output_type": "display_data"
    }
   ],
   "source": [
    "# Plot the data\n",
    "monthly_reviews_df.plot(kind='line', figsize=(13, 7))\n",
    "plt.title('Number of Reviews per Month')\n",
    "plt.xlabel('Month')\n",
    "plt.ylabel('Number of Reviews')\n",
    "plt.xticks(rotation=45)\n",
    "plt.savefig(os.path.join(path, '04 Analysis', 'Visualizations', 'reviews_per_month.png'))\n",
    "plt.show()"
   ]
  },
  {
   "cell_type": "code",
   "execution_count": null,
   "id": "8bf3b9a5",
   "metadata": {},
   "outputs": [],
   "source": [
    "monthly_reviews.shape"
   ]
  },
  {
   "cell_type": "code",
   "execution_count": null,
   "id": "e56cc9fb",
   "metadata": {},
   "outputs": [],
   "source": [
    "monthly_reviews_df.to_csv(os.path.join(path,'02 Data', 'Prepared Data','monthly_reviews_timeseries.csv'))"
   ]
  },
  {
   "cell_type": "markdown",
   "id": "4379cd43",
   "metadata": {},
   "source": [
    "### 3. Time-series analysis: decomposition"
   ]
  },
  {
   "cell_type": "code",
   "execution_count": null,
   "id": "9633c54e",
   "metadata": {},
   "outputs": [],
   "source": [
    "# decomposing reviews per month time series using an multiplicative model\n",
    "\n",
    "decomposition = sm.tsa.seasonal_decompose(monthly_reviews_df, model='additive')\n",
    "\n",
    "# try multiplicative and additive"
   ]
  },
  {
   "cell_type": "code",
   "execution_count": null,
   "id": "2be54fae",
   "metadata": {},
   "outputs": [],
   "source": [
    "from pylab import rcParams ## This will define a fixed size for all special charts.\n",
    "\n",
    "rcParams['figure.figsize'] = 18, 10"
   ]
  },
  {
   "cell_type": "code",
   "execution_count": null,
   "id": "99ab79a8",
   "metadata": {},
   "outputs": [],
   "source": [
    "# Plot the separate components\n",
    "\n",
    "decomposition.plot()\n",
    "plt.show()"
   ]
  },
  {
   "cell_type": "markdown",
   "id": "0a0996cb",
   "metadata": {},
   "source": [
    "### 4. Testing for stationarity\n",
    "\n",
    "* The adfuller() function will import from the model from statsmodels for the test; however, running it will only return an array of numbers. This is why you need to also define a function that prints the correct output from that array."
   ]
  },
  {
   "cell_type": "code",
   "execution_count": null,
   "id": "8789b0a6",
   "metadata": {},
   "outputs": [],
   "source": [
    "from statsmodels.tsa.stattools import adfuller \n",
    "\n",
    "def dickey_fuller(timeseries): # Define the function\n",
    "    # Perform the Dickey-Fuller test:\n",
    "    print ('Dickey-Fuller Stationarity test:')\n",
    "    test = adfuller(timeseries, autolag='AIC')\n",
    "    result = pd.Series(test[0:4], index=['Test Statistic','p-value','Number of Lags Used','Number of Observations Used'])\n",
    "    for key,value in test[4].items():\n",
    "       result['Critical Value (%s)'%key] = value\n",
    "    print (result)\n",
    "\n",
    "# Apply the test using the function on the time series\n",
    "dickey_fuller(monthly_reviews_df['Reviews'])"
   ]
  },
  {
   "cell_type": "markdown",
   "id": "39693ef2",
   "metadata": {},
   "source": [
    "Test statistic is larger than all critical values -> can't reject the null hypothesis -> there *is* a unit root in the data -> data is non-stationary -> data has a trend"
   ]
  },
  {
   "cell_type": "code",
   "execution_count": null,
   "id": "9ec62c55",
   "metadata": {},
   "outputs": [],
   "source": [
    "# Plot of autocorrelations; alternative check for stationarity\n",
    "\n",
    "from statsmodels.graphics.tsaplots import plot_acf, plot_pacf\n",
    "plot_acf(monthly_reviews_df)\n",
    "plt.show()\n",
    "\n",
    "# lines going above the blue area (confidence interval) are lags.\n",
    "# Many lags -> autocorrelated data, non-stationary dataset"
   ]
  },
  {
   "cell_type": "markdown",
   "id": "5c8e7234",
   "metadata": {},
   "source": [
    "### 5. Stationarizing Austin Airbnb Reviews Data"
   ]
  },
  {
   "cell_type": "code",
   "execution_count": null,
   "id": "a00ac6c3",
   "metadata": {},
   "outputs": [],
   "source": [
    "data_diff = monthly_reviews_df - monthly_reviews_df.shift(1)"
   ]
  },
  {
   "cell_type": "markdown",
   "id": "41644ecf",
   "metadata": {},
   "source": [
    "The df.shift(1) function turns the observation to t-1, making the whole thing t - (t -1)"
   ]
  },
  {
   "cell_type": "code",
   "execution_count": null,
   "id": "51b08208",
   "metadata": {},
   "outputs": [],
   "source": [
    "data_diff.dropna(inplace = True)"
   ]
  },
  {
   "cell_type": "code",
   "execution_count": null,
   "id": "490c24ea",
   "metadata": {},
   "outputs": [],
   "source": [
    "data_diff_cutoff = data_diff[: '2023-12-23']"
   ]
  },
  {
   "cell_type": "markdown",
   "id": "1015c1ac",
   "metadata": {},
   "source": [
    " Here, we remove the missing values that came about as a result of the differencing. \n",
    "We need to remove these or we won't be able to run the Dickey-Fuller test."
   ]
  },
  {
   "cell_type": "code",
   "execution_count": null,
   "id": "b15c537f",
   "metadata": {},
   "outputs": [],
   "source": [
    "data_diff.columns"
   ]
  },
  {
   "cell_type": "code",
   "execution_count": null,
   "id": "f43d6dbe",
   "metadata": {},
   "outputs": [],
   "source": [
    "# Check out what the differencing did to the time-series curve\n",
    "\n",
    "plt.figure(figsize=(15,5), dpi=100)\n",
    "plt.plot(data_diff_cutoff)"
   ]
  },
  {
   "cell_type": "code",
   "execution_count": null,
   "id": "eac41cf1",
   "metadata": {},
   "outputs": [],
   "source": [
    "dickey_fuller(data_diff)"
   ]
  },
  {
   "cell_type": "markdown",
   "id": "545308da",
   "metadata": {},
   "source": [
    "#### Test statistic is still *slightly* larger than critical values, p value still > 0.05. -> Dataset still not stationary"
   ]
  },
  {
   "cell_type": "code",
   "execution_count": null,
   "id": "c5493471",
   "metadata": {},
   "outputs": [],
   "source": [
    "plot_acf(data_diff_cutoff)\n",
    "plt.show()\n",
    "\n",
    "# Looks like all but two lines are unaccounted for, but 1 is massively unaccounted for."
   ]
  },
  {
   "cell_type": "markdown",
   "id": "35e59d40",
   "metadata": {},
   "source": [
    "### Another round of differencing:"
   ]
  },
  {
   "cell_type": "code",
   "execution_count": null,
   "id": "c8a5f0c3",
   "metadata": {},
   "outputs": [],
   "source": [
    "data_diff_2 = data_diff_cutoff - data_diff_cutoff.shift(1)"
   ]
  },
  {
   "cell_type": "code",
   "execution_count": null,
   "id": "6015dcc8",
   "metadata": {},
   "outputs": [],
   "source": [
    "data_diff_2.dropna(inplace = True)"
   ]
  },
  {
   "cell_type": "code",
   "execution_count": null,
   "id": "f2ba858b",
   "metadata": {},
   "outputs": [],
   "source": [
    "plt.figure(figsize=(15,5), dpi=100)\n",
    "plt.plot(data_diff_2)"
   ]
  },
  {
   "cell_type": "code",
   "execution_count": null,
   "id": "964f89a0",
   "metadata": {},
   "outputs": [],
   "source": [
    "dickey_fuller(data_diff_2)"
   ]
  },
  {
   "cell_type": "markdown",
   "id": "abf0fe27",
   "metadata": {},
   "source": [
    "Test statistic smaller than all critical values. P-value is miniscule, much lower than 0.05."
   ]
  },
  {
   "cell_type": "code",
   "execution_count": null,
   "id": "e97996e2",
   "metadata": {},
   "outputs": [],
   "source": [
    "plot_acf(data_diff_2)\n",
    "plt.show()"
   ]
  },
  {
   "cell_type": "markdown",
   "id": "55709c41",
   "metadata": {},
   "source": [
    "Autocorrelations about the same as before second round of differencing."
   ]
  }
 ],
 "metadata": {
  "kernelspec": {
   "display_name": "Python 3 (ipykernel)",
   "language": "python",
   "name": "python3"
  },
  "language_info": {
   "codemirror_mode": {
    "name": "ipython",
    "version": 3
   },
   "file_extension": ".py",
   "mimetype": "text/x-python",
   "name": "python",
   "nbconvert_exporter": "python",
   "pygments_lexer": "ipython3",
   "version": "3.11.5"
  }
 },
 "nbformat": 4,
 "nbformat_minor": 5
}
